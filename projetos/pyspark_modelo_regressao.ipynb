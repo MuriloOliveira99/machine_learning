{
  "cells": [
    {
      "cell_type": "code",
      "execution_count": 1,
      "metadata": {
        "colab": {
          "base_uri": "https://localhost:8080/"
        },
        "id": "rlENSg7emj9e",
        "outputId": "a051884f-4949-4ab4-cdee-6390d14e8dc7"
      },
      "outputs": [
        {
          "name": "stdout",
          "output_type": "stream",
          "text": [
            "Collecting pyspark\n",
            "  Downloading pyspark-3.5.0.tar.gz (316.9 MB)\n",
            "\u001b[2K     \u001b[90m━━━━━━━━━━━━━━━━━━━━━━━━━━━━━━━━━━━━━━━\u001b[0m \u001b[32m316.9/316.9 MB\u001b[0m \u001b[31m3.8 MB/s\u001b[0m eta \u001b[36m0:00:00\u001b[0m\n",
            "\u001b[?25h  Preparing metadata (setup.py) ... \u001b[?25l\u001b[?25hdone\n",
            "Requirement already satisfied: py4j==0.10.9.7 in /usr/local/lib/python3.10/dist-packages (from pyspark) (0.10.9.7)\n",
            "Building wheels for collected packages: pyspark\n",
            "  Building wheel for pyspark (setup.py) ... \u001b[?25l\u001b[?25hdone\n",
            "  Created wheel for pyspark: filename=pyspark-3.5.0-py2.py3-none-any.whl size=317425344 sha256=7258dfd56681c1dbd6fa934e6f513da633ed6083ed9247b66abe80d7093a9ce0\n",
            "  Stored in directory: /root/.cache/pip/wheels/41/4e/10/c2cf2467f71c678cfc8a6b9ac9241e5e44a01940da8fbb17fc\n",
            "Successfully built pyspark\n",
            "Installing collected packages: pyspark\n",
            "Successfully installed pyspark-3.5.0\n"
          ]
        }
      ],
      "source": [
        "!pip install pyspark"
      ]
    },
    {
      "cell_type": "markdown",
      "metadata": {
        "id": "y3gqmPOCm9fr"
      },
      "source": [
        "# PySpark - Modelo de Regressão\n",
        "- Regressão Linear\n",
        "- Random Forest"
      ]
    },
    {
      "cell_type": "code",
      "execution_count": 6,
      "metadata": {
        "id": "ndwufP5VmzH6"
      },
      "outputs": [],
      "source": [
        "from pyspark.sql.session import SparkSession\n",
        "\n",
        "from pyspark.ml.regression import LinearRegression, RandomForestRegressor\n",
        "from pyspark.ml.evaluation import RegressionEvaluator\n",
        "\n",
        "from pyspark.ml.feature import VectorAssembler"
      ]
    },
    {
      "cell_type": "markdown",
      "metadata": {
        "id": "aFpsyHUnraqk"
      },
      "source": [
        "## Criando a Session PySpark"
      ]
    },
    {
      "cell_type": "code",
      "execution_count": 7,
      "metadata": {
        "id": "IJmi-vYZoeTI"
      },
      "outputs": [],
      "source": [
        "spark = SparkSession.builder.appName('regressaolinear_randomforest')\\\n",
        "        .config('spark.master', 'local')\\\n",
        "        .config('spark.executor.memory', '2gb')\\\n",
        "        .config('spark.shuffle.sql.partitions', 2)\\\n",
        "        .getOrCreate()"
      ]
    },
    {
      "cell_type": "markdown",
      "metadata": {
        "id": "9CzU0SjHrgO2"
      },
      "source": [
        "## Importando a base"
      ]
    },
    {
      "cell_type": "code",
      "execution_count": 68,
      "metadata": {
        "id": "RKKkjmRBoNbv"
      },
      "outputs": [],
      "source": [
        "carros_temp = spark.read.csv(\n",
        "    '/content/Carros.csv',\n",
        "    inferSchema = True,\n",
        "    header = True,\n",
        "    sep = ';')"
      ]
    },
    {
      "cell_type": "code",
      "execution_count": 69,
      "metadata": {
        "colab": {
          "base_uri": "https://localhost:8080/"
        },
        "id": "vyMc0IBnrZa2",
        "outputId": "b4daf1d7-90e3-425b-b2a3-99dbe106e3e2"
      },
      "outputs": [
        {
          "name": "stdout",
          "output_type": "stream",
          "text": [
            "+-------+---------+-----------+---------------+----+-----+---------+-----------+-------+-----------+---+\n",
            "|Consumo|Cilindros|Cilindradas|RelEixoTraseiro|Peso|Tempo|TipoMotor|Transmissao|Marchas|Carburadors| HP|\n",
            "+-------+---------+-----------+---------------+----+-----+---------+-----------+-------+-----------+---+\n",
            "|     21|        6|        160|             39| 262| 1646|        0|          1|      4|          4|110|\n",
            "|     21|        6|        160|             39|2875| 1702|        0|          1|      4|          4|110|\n",
            "|    228|        4|        108|            385| 232| 1861|        1|          1|      4|          1| 93|\n",
            "|    214|        6|        258|            308|3215| 1944|        1|          0|      3|          1|110|\n",
            "|    187|        8|        360|            315| 344| 1702|        0|          0|      3|          2|175|\n",
            "+-------+---------+-----------+---------------+----+-----+---------+-----------+-------+-----------+---+\n",
            "only showing top 5 rows\n",
            "\n"
          ]
        }
      ],
      "source": [
        "# verificando os primeiros registros\n",
        "carros_temp.show(5)"
      ]
    },
    {
      "cell_type": "code",
      "execution_count": 70,
      "metadata": {
        "colab": {
          "base_uri": "https://localhost:8080/"
        },
        "id": "Gb3opzF6vxYX",
        "outputId": "e58504c4-57c2-4c4c-9f9c-9b14c44c3a63"
      },
      "outputs": [
        {
          "data": {
            "text/plain": [
              "32"
            ]
          },
          "execution_count": 70,
          "metadata": {},
          "output_type": "execute_result"
        }
      ],
      "source": [
        "carros_temp.count()"
      ]
    },
    {
      "cell_type": "code",
      "execution_count": 71,
      "metadata": {
        "colab": {
          "base_uri": "https://localhost:8080/"
        },
        "id": "JIgMO2Qorqao",
        "outputId": "518f592d-df73-4e79-f148-65beea684341"
      },
      "outputs": [
        {
          "name": "stdout",
          "output_type": "stream",
          "text": [
            "root\n",
            " |-- Consumo: integer (nullable = true)\n",
            " |-- Cilindros: integer (nullable = true)\n",
            " |-- Cilindradas: integer (nullable = true)\n",
            " |-- RelEixoTraseiro: integer (nullable = true)\n",
            " |-- Peso: integer (nullable = true)\n",
            " |-- Tempo: integer (nullable = true)\n",
            " |-- TipoMotor: integer (nullable = true)\n",
            " |-- Transmissao: integer (nullable = true)\n",
            " |-- Marchas: integer (nullable = true)\n",
            " |-- Carburadors: integer (nullable = true)\n",
            " |-- HP: integer (nullable = true)\n",
            "\n"
          ]
        }
      ],
      "source": [
        "# verificando as informações de cada variável\n",
        "carros_temp.printSchema()"
      ]
    },
    {
      "cell_type": "code",
      "execution_count": 72,
      "metadata": {
        "id": "Q0vJWDWYrjjl"
      },
      "outputs": [],
      "source": [
        "# criando um novo df\n",
        "carros = carros_temp.select('Consumo', 'Cilindros', 'Cilindradas', 'HP')"
      ]
    },
    {
      "cell_type": "code",
      "execution_count": 73,
      "metadata": {
        "colab": {
          "base_uri": "https://localhost:8080/"
        },
        "id": "FgFuK5g1sHKE",
        "outputId": "cd4a4929-275f-4ffc-f410-a0eec281a210"
      },
      "outputs": [
        {
          "name": "stdout",
          "output_type": "stream",
          "text": [
            "+-------+---------+-----------+---+\n",
            "|Consumo|Cilindros|Cilindradas| HP|\n",
            "+-------+---------+-----------+---+\n",
            "|     21|        6|        160|110|\n",
            "|     21|        6|        160|110|\n",
            "|    228|        4|        108| 93|\n",
            "|    214|        6|        258|110|\n",
            "|    187|        8|        360|175|\n",
            "+-------+---------+-----------+---+\n",
            "only showing top 5 rows\n",
            "\n"
          ]
        }
      ],
      "source": [
        "carros.show(5)"
      ]
    },
    {
      "cell_type": "markdown",
      "metadata": {
        "id": "0wVkYmDdrjnr"
      },
      "source": [
        "## VectorAssembler\n",
        "- - Cria uma nova coluna do tipo lista com os de cada linha\n"
      ]
    },
    {
      "cell_type": "code",
      "execution_count": 74,
      "metadata": {
        "id": "nXTEStRprjrj"
      },
      "outputs": [],
      "source": [
        "# Criando um objeto VectorAssebler\n",
        "vec_caracteristicas = VectorAssembler(inputCols = ['Consumo', 'Cilindros', 'Cilindradas'],\n",
        "                                      outputCol = 'caracteristicas')"
      ]
    },
    {
      "cell_type": "code",
      "execution_count": 75,
      "metadata": {
        "id": "J_xuKmf0rj0A"
      },
      "outputs": [],
      "source": [
        "# transform para transformar as variáveis\n",
        "carros = vec_caracteristicas.transform(carros)"
      ]
    },
    {
      "cell_type": "code",
      "execution_count": 76,
      "metadata": {
        "colab": {
          "base_uri": "https://localhost:8080/"
        },
        "id": "UHZQb_jeuO_i",
        "outputId": "a1ef6480-c4ed-4b79-85d5-b0c95605e21d"
      },
      "outputs": [
        {
          "name": "stdout",
          "output_type": "stream",
          "text": [
            "+-------+---------+-----------+---+-----------------+\n",
            "|Consumo|Cilindros|Cilindradas| HP|  caracteristicas|\n",
            "+-------+---------+-----------+---+-----------------+\n",
            "|     21|        6|        160|110| [21.0,6.0,160.0]|\n",
            "|     21|        6|        160|110| [21.0,6.0,160.0]|\n",
            "|    228|        4|        108| 93|[228.0,4.0,108.0]|\n",
            "|    214|        6|        258|110|[214.0,6.0,258.0]|\n",
            "|    187|        8|        360|175|[187.0,8.0,360.0]|\n",
            "+-------+---------+-----------+---+-----------------+\n",
            "only showing top 5 rows\n",
            "\n"
          ]
        }
      ],
      "source": [
        "carros.show(5)"
      ]
    },
    {
      "cell_type": "markdown",
      "metadata": {
        "id": "f2QDNj_UvAfd"
      },
      "source": [
        "## Dividindo os dados em treino e teste\n",
        "- Treino: 70% da base de dados\n",
        "- Teste: 30% da base de dados"
      ]
    },
    {
      "cell_type": "code",
      "execution_count": 77,
      "metadata": {
        "id": "fS3FNv4auQRu"
      },
      "outputs": [],
      "source": [
        "# realização das divisões\n",
        "carros_treino, carros_teste = carros.randomSplit([0.7, 0.3])"
      ]
    },
    {
      "cell_type": "code",
      "execution_count": 78,
      "metadata": {
        "colab": {
          "base_uri": "https://localhost:8080/"
        },
        "id": "y8Xu5BcIvVnA",
        "outputId": "9c3d7772-1f61-4856-8c60-0366b5910c63"
      },
      "outputs": [
        {
          "name": "stdout",
          "output_type": "stream",
          "text": [
            "26\n",
            "6\n"
          ]
        }
      ],
      "source": [
        "print(carros_treino.count())\n",
        "print(carros_teste.count())"
      ]
    },
    {
      "cell_type": "markdown",
      "metadata": {
        "id": "khVJkC-3v8Ub"
      },
      "source": [
        "## Regressão Linear"
      ]
    },
    {
      "cell_type": "markdown",
      "metadata": {
        "id": "QZSZGPM-xKyU"
      },
      "source": [
        "#### Criando o objeto LinearRegression\n",
        "- featuresCol = entradas\n",
        "- labelCol = saida (Dado que queremos prever)"
      ]
    },
    {
      "cell_type": "code",
      "execution_count": 79,
      "metadata": {
        "id": "lNJfkblIvi4L"
      },
      "outputs": [],
      "source": [
        "rl = LinearRegression(featuresCol = 'caracteristicas', labelCol = 'HP')"
      ]
    },
    {
      "cell_type": "markdown",
      "metadata": {
        "id": "meqEQP9Rxa97"
      },
      "source": [
        "#### Criando o modelo da Regressão Linear\n",
        "- .fit -> para treinar os dados de treino (70%)"
      ]
    },
    {
      "cell_type": "code",
      "execution_count": 80,
      "metadata": {
        "id": "-2c-Qvw7xIBU"
      },
      "outputs": [],
      "source": [
        "model_rl = rl.fit(carros_treino)"
      ]
    },
    {
      "cell_type": "markdown",
      "metadata": {
        "id": "4C2dBsPcyHa8"
      },
      "source": [
        "#### Previsão do modelo\n",
        "- Precisa passar os dados de teste (30%)\n",
        "- Retorna um novo df com uma coluna chamada 'prediction'"
      ]
    },
    {
      "cell_type": "code",
      "execution_count": 81,
      "metadata": {
        "id": "ihMJobwxxzgq"
      },
      "outputs": [],
      "source": [
        "previsao = model_rl.transform(carros_teste)"
      ]
    },
    {
      "cell_type": "markdown",
      "metadata": {
        "id": "Zcd64lUBzEhi"
      },
      "source": [
        "#### Entendendo as previsões\n",
        "- Dados reais (HP)\n",
        "- Dados previstos (prediction)\n",
        "- Na primeira linha, o dado real do HP é 335 e  o modelo previu na 184"
      ]
    },
    {
      "cell_type": "code",
      "execution_count": 82,
      "metadata": {
        "colab": {
          "base_uri": "https://localhost:8080/"
        },
        "id": "HUEyfMGfyWym",
        "outputId": "3428aa7a-4d66-4484-da63-5104f5ca323b"
      },
      "outputs": [
        {
          "name": "stdout",
          "output_type": "stream",
          "text": [
            "+-------+---------+-----------+---+------------------+------------------+\n",
            "|Consumo|Cilindros|Cilindradas| HP|   caracteristicas|        prediction|\n",
            "+-------+---------+-----------+---+------------------+------------------+\n",
            "|     26|        4|       1203| 91| [26.0,4.0,1203.0]| 91.37031469344534|\n",
            "|    152|        8|        304|150| [152.0,8.0,304.0]|208.70412096994474|\n",
            "|    158|        8|        351|264| [158.0,8.0,351.0]|207.77775952185848|\n",
            "|    173|        8|       2758|180|[173.0,8.0,2758.0]| 187.4982886033123|\n",
            "|    214|        4|        121|109| [214.0,4.0,121.0]| 82.38840502574772|\n",
            "|    214|        6|        258|110| [214.0,6.0,258.0]|142.30835247036757|\n",
            "+-------+---------+-----------+---+------------------+------------------+\n",
            "\n"
          ]
        }
      ],
      "source": [
        "previsao.show()"
      ]
    },
    {
      "cell_type": "markdown",
      "metadata": {
        "id": "F67zT2WEz0Tq"
      },
      "source": [
        "## Avaliando a performance do modelo da Regressão Linear"
      ]
    },
    {
      "cell_type": "markdown",
      "metadata": {
        "id": "ruhoGYjl0Kpv"
      },
      "source": [
        "#### Criando o objeto de avaliação da regressão\n",
        "- RegressionEvaluator()\n",
        "    - 1º Parametro (<b>predictionCol</b>):\n",
        "        - A coluna (prediciton) que o modelo previu.\n",
        "    - 2º Parametro (<b>labelCol</b>):\n",
        "        - A coluna (HP) com os dados reais que o modelo utilizou para prever.\n",
        "    - 2º Parametro (<b>metricName</b>):\n",
        "        - Nome da métrica\n",
        "    - rmse: quanto menor, melhor"
      ]
    },
    {
      "cell_type": "code",
      "execution_count": 83,
      "metadata": {
        "id": "2ThnAyEhyaRy"
      },
      "outputs": [],
      "source": [
        "avaliar = RegressionEvaluator(predictionCol = 'prediction',\n",
        "                              labelCol = 'HP',\n",
        "                              metricName = 'rmse')"
      ]
    },
    {
      "cell_type": "markdown",
      "metadata": {
        "id": "5DdjCRVP1znq"
      },
      "source": [
        "#### Avaliando o modelo"
      ]
    },
    {
      "cell_type": "code",
      "execution_count": 84,
      "metadata": {
        "id": "tPLWK9F_19NP"
      },
      "outputs": [],
      "source": [
        "rmse = avaliar.evaluate(previsao)"
      ]
    },
    {
      "cell_type": "code",
      "execution_count": 85,
      "metadata": {
        "colab": {
          "base_uri": "https://localhost:8080/"
        },
        "id": "juksSb7p2HP5",
        "outputId": "ef440b45-68e0-4b05-cd95-3bc9d1c4d721"
      },
      "outputs": [
        {
          "name": "stdout",
          "output_type": "stream",
          "text": [
            "37.45103967094857\n"
          ]
        }
      ],
      "source": [
        "print(rmse)"
      ]
    },
    {
      "cell_type": "markdown",
      "metadata": {
        "id": "UWKjSZWg2fUG"
      },
      "source": [
        "## Random Forest"
      ]
    },
    {
      "cell_type": "markdown",
      "metadata": {
        "id": "LC2HIT1Y2scJ"
      },
      "source": [
        "#### Criando o objeto LinearRegression\n",
        "- featuresCol = entradas\n",
        "- labelCol = saida (Dado que queremos prever)"
      ]
    },
    {
      "cell_type": "code",
      "execution_count": 86,
      "metadata": {
        "id": "aYz20Zgf2IMa"
      },
      "outputs": [],
      "source": [
        "rf = RandomForestRegressor(featuresCol = 'caracteristicas',\n",
        "                           labelCol = 'HP')"
      ]
    },
    {
      "cell_type": "markdown",
      "metadata": {
        "id": "ag-pMpLD26NQ"
      },
      "source": [
        "#### Criando o modelo da Regressão Linear\n",
        "- .fit -> para treinar os dados de treino (70%)"
      ]
    },
    {
      "cell_type": "code",
      "execution_count": 87,
      "metadata": {
        "id": "dDvIxxcG26ov"
      },
      "outputs": [],
      "source": [
        "model_rf = rf.fit(carros_treino)"
      ]
    },
    {
      "cell_type": "markdown",
      "metadata": {
        "id": "PHVv1JvH3Mzv"
      },
      "source": [
        "#### Previsão do modelo\n",
        "- Precisa passar os dados de teste (30%)\n",
        "- Retorna um novo df com uma coluna chamada 'prediction'"
      ]
    },
    {
      "cell_type": "code",
      "execution_count": 88,
      "metadata": {
        "id": "b2ZARI-B3E2C"
      },
      "outputs": [],
      "source": [
        "previsao_rf = model_rf.transform(carros_teste)"
      ]
    },
    {
      "cell_type": "markdown",
      "metadata": {
        "id": "nbvik6_T4wJE"
      },
      "source": [
        "#### Entendendo as previsões\n",
        "- Dados reais (HP)\n",
        "- Dados previstos (prediction)\n",
        "- Na primeira linha, o dado real do HP é 335 e o modelo previu na 177"
      ]
    },
    {
      "cell_type": "code",
      "execution_count": 89,
      "metadata": {
        "colab": {
          "base_uri": "https://localhost:8080/"
        },
        "id": "acctZkYW3i42",
        "outputId": "17ee0118-7019-487a-94bb-3179a661a559"
      },
      "outputs": [
        {
          "name": "stdout",
          "output_type": "stream",
          "text": [
            "+-------+---------+-----------+---+------------------+------------------+\n",
            "|Consumo|Cilindros|Cilindradas| HP|   caracteristicas|        prediction|\n",
            "+-------+---------+-----------+---+------------------+------------------+\n",
            "|     26|        4|       1203| 91| [26.0,4.0,1203.0]|            114.79|\n",
            "|    152|        8|        304|150| [152.0,8.0,304.0]| 243.8136188087275|\n",
            "|    158|        8|        351|264| [158.0,8.0,351.0]|209.21540452301323|\n",
            "|    173|        8|       2758|180|[173.0,8.0,2758.0]| 155.4422360248447|\n",
            "|    214|        4|        121|109| [214.0,4.0,121.0]| 89.55833333333334|\n",
            "+-------+---------+-----------+---+------------------+------------------+\n",
            "only showing top 5 rows\n",
            "\n"
          ]
        }
      ],
      "source": [
        "previsao_rf.show(5)"
      ]
    },
    {
      "cell_type": "markdown",
      "metadata": {
        "id": "OHrBwD795Ly4"
      },
      "source": [
        "## Avaliando a performance do modelo da Regressão Linear"
      ]
    },
    {
      "cell_type": "code",
      "execution_count": 90,
      "metadata": {
        "id": "buR8slFt3k5P"
      },
      "outputs": [],
      "source": [
        "rmse_rf = avaliar.evaluate(previsao_rf)"
      ]
    },
    {
      "cell_type": "code",
      "execution_count": 91,
      "metadata": {
        "colab": {
          "base_uri": "https://localhost:8080/"
        },
        "id": "6u-KE5A95UJG",
        "outputId": "cad0e884-6b5a-48f2-9464-8a8490d935ce"
      },
      "outputs": [
        {
          "name": "stdout",
          "output_type": "stream",
          "text": [
            "47.1992144009642\n"
          ]
        }
      ],
      "source": [
        "print(rmse_rf)"
      ]
    },
    {
      "cell_type": "markdown",
      "metadata": {
        "id": "umqhAvrR5i0c"
      },
      "source": [
        "## Comparando os modelos"
      ]
    },
    {
      "cell_type": "code",
      "execution_count": 92,
      "metadata": {
        "colab": {
          "base_uri": "https://localhost:8080/",
          "height": 112
        },
        "id": "ckjmMUhC7WNw",
        "outputId": "390da327-ecb3-4515-8a63-a19cfcf0868f"
      },
      "outputs": [
        {
          "data": {
            "text/html": [
              "\n",
              "  <div id=\"df-550cb1e0-7f27-40b8-af5e-223bfcb8d739\" class=\"colab-df-container\">\n",
              "    <div>\n",
              "<style scoped>\n",
              "    .dataframe tbody tr th:only-of-type {\n",
              "        vertical-align: middle;\n",
              "    }\n",
              "\n",
              "    .dataframe tbody tr th {\n",
              "        vertical-align: top;\n",
              "    }\n",
              "\n",
              "    .dataframe thead th {\n",
              "        text-align: right;\n",
              "    }\n",
              "</style>\n",
              "<table border=\"1\" class=\"dataframe\">\n",
              "  <thead>\n",
              "    <tr style=\"text-align: right;\">\n",
              "      <th></th>\n",
              "      <th>Avaliação de Desempenho</th>\n",
              "    </tr>\n",
              "  </thead>\n",
              "  <tbody>\n",
              "    <tr>\n",
              "      <th>rmse_lr</th>\n",
              "      <td>37.451040</td>\n",
              "    </tr>\n",
              "    <tr>\n",
              "      <th>rmse_rf</th>\n",
              "      <td>47.199214</td>\n",
              "    </tr>\n",
              "  </tbody>\n",
              "</table>\n",
              "</div>\n",
              "    <div class=\"colab-df-buttons\">\n",
              "\n",
              "  <div class=\"colab-df-container\">\n",
              "    <button class=\"colab-df-convert\" onclick=\"convertToInteractive('df-550cb1e0-7f27-40b8-af5e-223bfcb8d739')\"\n",
              "            title=\"Convert this dataframe to an interactive table.\"\n",
              "            style=\"display:none;\">\n",
              "\n",
              "  <svg xmlns=\"http://www.w3.org/2000/svg\" height=\"24px\" viewBox=\"0 -960 960 960\">\n",
              "    <path d=\"M120-120v-720h720v720H120Zm60-500h600v-160H180v160Zm220 220h160v-160H400v160Zm0 220h160v-160H400v160ZM180-400h160v-160H180v160Zm440 0h160v-160H620v160ZM180-180h160v-160H180v160Zm440 0h160v-160H620v160Z\"/>\n",
              "  </svg>\n",
              "    </button>\n",
              "\n",
              "  <style>\n",
              "    .colab-df-container {\n",
              "      display:flex;\n",
              "      gap: 12px;\n",
              "    }\n",
              "\n",
              "    .colab-df-convert {\n",
              "      background-color: #E8F0FE;\n",
              "      border: none;\n",
              "      border-radius: 50%;\n",
              "      cursor: pointer;\n",
              "      display: none;\n",
              "      fill: #1967D2;\n",
              "      height: 32px;\n",
              "      padding: 0 0 0 0;\n",
              "      width: 32px;\n",
              "    }\n",
              "\n",
              "    .colab-df-convert:hover {\n",
              "      background-color: #E2EBFA;\n",
              "      box-shadow: 0px 1px 2px rgba(60, 64, 67, 0.3), 0px 1px 3px 1px rgba(60, 64, 67, 0.15);\n",
              "      fill: #174EA6;\n",
              "    }\n",
              "\n",
              "    .colab-df-buttons div {\n",
              "      margin-bottom: 4px;\n",
              "    }\n",
              "\n",
              "    [theme=dark] .colab-df-convert {\n",
              "      background-color: #3B4455;\n",
              "      fill: #D2E3FC;\n",
              "    }\n",
              "\n",
              "    [theme=dark] .colab-df-convert:hover {\n",
              "      background-color: #434B5C;\n",
              "      box-shadow: 0px 1px 3px 1px rgba(0, 0, 0, 0.15);\n",
              "      filter: drop-shadow(0px 1px 2px rgba(0, 0, 0, 0.3));\n",
              "      fill: #FFFFFF;\n",
              "    }\n",
              "  </style>\n",
              "\n",
              "    <script>\n",
              "      const buttonEl =\n",
              "        document.querySelector('#df-550cb1e0-7f27-40b8-af5e-223bfcb8d739 button.colab-df-convert');\n",
              "      buttonEl.style.display =\n",
              "        google.colab.kernel.accessAllowed ? 'block' : 'none';\n",
              "\n",
              "      async function convertToInteractive(key) {\n",
              "        const element = document.querySelector('#df-550cb1e0-7f27-40b8-af5e-223bfcb8d739');\n",
              "        const dataTable =\n",
              "          await google.colab.kernel.invokeFunction('convertToInteractive',\n",
              "                                                    [key], {});\n",
              "        if (!dataTable) return;\n",
              "\n",
              "        const docLinkHtml = 'Like what you see? Visit the ' +\n",
              "          '<a target=\"_blank\" href=https://colab.research.google.com/notebooks/data_table.ipynb>data table notebook</a>'\n",
              "          + ' to learn more about interactive tables.';\n",
              "        element.innerHTML = '';\n",
              "        dataTable['output_type'] = 'display_data';\n",
              "        await google.colab.output.renderOutput(dataTable, element);\n",
              "        const docLink = document.createElement('div');\n",
              "        docLink.innerHTML = docLinkHtml;\n",
              "        element.appendChild(docLink);\n",
              "      }\n",
              "    </script>\n",
              "  </div>\n",
              "\n",
              "\n",
              "<div id=\"df-84972080-1ead-47c8-ac2f-fb8940ea24db\">\n",
              "  <button class=\"colab-df-quickchart\" onclick=\"quickchart('df-84972080-1ead-47c8-ac2f-fb8940ea24db')\"\n",
              "            title=\"Suggest charts.\"\n",
              "            style=\"display:none;\">\n",
              "\n",
              "<svg xmlns=\"http://www.w3.org/2000/svg\" height=\"24px\"viewBox=\"0 0 24 24\"\n",
              "     width=\"24px\">\n",
              "    <g>\n",
              "        <path d=\"M19 3H5c-1.1 0-2 .9-2 2v14c0 1.1.9 2 2 2h14c1.1 0 2-.9 2-2V5c0-1.1-.9-2-2-2zM9 17H7v-7h2v7zm4 0h-2V7h2v10zm4 0h-2v-4h2v4z\"/>\n",
              "    </g>\n",
              "</svg>\n",
              "  </button>\n",
              "\n",
              "<style>\n",
              "  .colab-df-quickchart {\n",
              "      --bg-color: #E8F0FE;\n",
              "      --fill-color: #1967D2;\n",
              "      --hover-bg-color: #E2EBFA;\n",
              "      --hover-fill-color: #174EA6;\n",
              "      --disabled-fill-color: #AAA;\n",
              "      --disabled-bg-color: #DDD;\n",
              "  }\n",
              "\n",
              "  [theme=dark] .colab-df-quickchart {\n",
              "      --bg-color: #3B4455;\n",
              "      --fill-color: #D2E3FC;\n",
              "      --hover-bg-color: #434B5C;\n",
              "      --hover-fill-color: #FFFFFF;\n",
              "      --disabled-bg-color: #3B4455;\n",
              "      --disabled-fill-color: #666;\n",
              "  }\n",
              "\n",
              "  .colab-df-quickchart {\n",
              "    background-color: var(--bg-color);\n",
              "    border: none;\n",
              "    border-radius: 50%;\n",
              "    cursor: pointer;\n",
              "    display: none;\n",
              "    fill: var(--fill-color);\n",
              "    height: 32px;\n",
              "    padding: 0;\n",
              "    width: 32px;\n",
              "  }\n",
              "\n",
              "  .colab-df-quickchart:hover {\n",
              "    background-color: var(--hover-bg-color);\n",
              "    box-shadow: 0 1px 2px rgba(60, 64, 67, 0.3), 0 1px 3px 1px rgba(60, 64, 67, 0.15);\n",
              "    fill: var(--button-hover-fill-color);\n",
              "  }\n",
              "\n",
              "  .colab-df-quickchart-complete:disabled,\n",
              "  .colab-df-quickchart-complete:disabled:hover {\n",
              "    background-color: var(--disabled-bg-color);\n",
              "    fill: var(--disabled-fill-color);\n",
              "    box-shadow: none;\n",
              "  }\n",
              "\n",
              "  .colab-df-spinner {\n",
              "    border: 2px solid var(--fill-color);\n",
              "    border-color: transparent;\n",
              "    border-bottom-color: var(--fill-color);\n",
              "    animation:\n",
              "      spin 1s steps(1) infinite;\n",
              "  }\n",
              "\n",
              "  @keyframes spin {\n",
              "    0% {\n",
              "      border-color: transparent;\n",
              "      border-bottom-color: var(--fill-color);\n",
              "      border-left-color: var(--fill-color);\n",
              "    }\n",
              "    20% {\n",
              "      border-color: transparent;\n",
              "      border-left-color: var(--fill-color);\n",
              "      border-top-color: var(--fill-color);\n",
              "    }\n",
              "    30% {\n",
              "      border-color: transparent;\n",
              "      border-left-color: var(--fill-color);\n",
              "      border-top-color: var(--fill-color);\n",
              "      border-right-color: var(--fill-color);\n",
              "    }\n",
              "    40% {\n",
              "      border-color: transparent;\n",
              "      border-right-color: var(--fill-color);\n",
              "      border-top-color: var(--fill-color);\n",
              "    }\n",
              "    60% {\n",
              "      border-color: transparent;\n",
              "      border-right-color: var(--fill-color);\n",
              "    }\n",
              "    80% {\n",
              "      border-color: transparent;\n",
              "      border-right-color: var(--fill-color);\n",
              "      border-bottom-color: var(--fill-color);\n",
              "    }\n",
              "    90% {\n",
              "      border-color: transparent;\n",
              "      border-bottom-color: var(--fill-color);\n",
              "    }\n",
              "  }\n",
              "</style>\n",
              "\n",
              "  <script>\n",
              "    async function quickchart(key) {\n",
              "      const quickchartButtonEl =\n",
              "        document.querySelector('#' + key + ' button');\n",
              "      quickchartButtonEl.disabled = true;  // To prevent multiple clicks.\n",
              "      quickchartButtonEl.classList.add('colab-df-spinner');\n",
              "      try {\n",
              "        const charts = await google.colab.kernel.invokeFunction(\n",
              "            'suggestCharts', [key], {});\n",
              "      } catch (error) {\n",
              "        console.error('Error during call to suggestCharts:', error);\n",
              "      }\n",
              "      quickchartButtonEl.classList.remove('colab-df-spinner');\n",
              "      quickchartButtonEl.classList.add('colab-df-quickchart-complete');\n",
              "    }\n",
              "    (() => {\n",
              "      let quickchartButtonEl =\n",
              "        document.querySelector('#df-84972080-1ead-47c8-ac2f-fb8940ea24db button');\n",
              "      quickchartButtonEl.style.display =\n",
              "        google.colab.kernel.accessAllowed ? 'block' : 'none';\n",
              "    })();\n",
              "  </script>\n",
              "</div>\n",
              "    </div>\n",
              "  </div>\n"
            ],
            "text/plain": [
              "         Avaliação de Desempenho\n",
              "rmse_lr                37.451040\n",
              "rmse_rf                47.199214"
            ]
          },
          "execution_count": 92,
          "metadata": {},
          "output_type": "execute_result"
        }
      ],
      "source": [
        "import pandas as pd\n",
        "pd.DataFrame([rmse, rmse_rf], ['rmse_lr', 'rmse_rf'], columns = ['Avaliação de Desempenho'])"
      ]
    },
    {
      "cell_type": "markdown",
      "metadata": {
        "id": "fRR0H4XH6iUU"
      },
      "source": [
        "- LinearRegression (rmse)"
      ]
    },
    {
      "cell_type": "code",
      "execution_count": 93,
      "metadata": {
        "colab": {
          "base_uri": "https://localhost:8080/"
        },
        "id": "CLfc0DyU5WEf",
        "outputId": "f1b33ed3-280b-4b25-9bce-dcd91c389404"
      },
      "outputs": [
        {
          "name": "stdout",
          "output_type": "stream",
          "text": [
            "rmse: 37.45%\n",
            "+-------+---------+-----------+---+------------------+------------------+\n",
            "|Consumo|Cilindros|Cilindradas| HP|   caracteristicas|        prediction|\n",
            "+-------+---------+-----------+---+------------------+------------------+\n",
            "|     26|        4|       1203| 91| [26.0,4.0,1203.0]| 91.37031469344534|\n",
            "|    152|        8|        304|150| [152.0,8.0,304.0]|208.70412096994474|\n",
            "|    158|        8|        351|264| [158.0,8.0,351.0]|207.77775952185848|\n",
            "|    173|        8|       2758|180|[173.0,8.0,2758.0]| 187.4982886033123|\n",
            "|    214|        4|        121|109| [214.0,4.0,121.0]| 82.38840502574772|\n",
            "|    214|        6|        258|110| [214.0,6.0,258.0]|142.30835247036757|\n",
            "+-------+---------+-----------+---+------------------+------------------+\n",
            "\n"
          ]
        }
      ],
      "source": [
        "# rmse -> LinearRegression\n",
        "print(f'rmse: {rmse:.2f}%')\n",
        "previsao.show()"
      ]
    },
    {
      "cell_type": "markdown",
      "metadata": {
        "id": "bOn6bTdN6i1V"
      },
      "source": [
        "- RandomForestRegressor (rmse)"
      ]
    },
    {
      "cell_type": "code",
      "execution_count": 94,
      "metadata": {
        "colab": {
          "base_uri": "https://localhost:8080/"
        },
        "id": "Bvpl98cv6i6e",
        "outputId": "598d9606-07fa-4e04-9442-0fb03a68d776"
      },
      "outputs": [
        {
          "name": "stdout",
          "output_type": "stream",
          "text": [
            "rmse: 47.20%\n",
            "+-------+---------+-----------+---+------------------+------------------+\n",
            "|Consumo|Cilindros|Cilindradas| HP|   caracteristicas|        prediction|\n",
            "+-------+---------+-----------+---+------------------+------------------+\n",
            "|     26|        4|       1203| 91| [26.0,4.0,1203.0]|            114.79|\n",
            "|    152|        8|        304|150| [152.0,8.0,304.0]| 243.8136188087275|\n",
            "|    158|        8|        351|264| [158.0,8.0,351.0]|209.21540452301323|\n",
            "|    173|        8|       2758|180|[173.0,8.0,2758.0]| 155.4422360248447|\n",
            "|    214|        4|        121|109| [214.0,4.0,121.0]| 89.55833333333334|\n",
            "|    214|        6|        258|110| [214.0,6.0,258.0]|114.14991452991453|\n",
            "+-------+---------+-----------+---+------------------+------------------+\n",
            "\n"
          ]
        }
      ],
      "source": [
        "# rmse -> RandomForestRegressor\n",
        "print(f'rmse: {rmse_rf:.2f}%')\n",
        "previsao_rf.show()"
      ]
    }
  ],
  "metadata": {
    "colab": {
      "provenance": []
    },
    "kernelspec": {
      "display_name": "Python 3",
      "name": "python3"
    },
    "language_info": {
      "name": "python"
    }
  },
  "nbformat": 4,
  "nbformat_minor": 0
}
