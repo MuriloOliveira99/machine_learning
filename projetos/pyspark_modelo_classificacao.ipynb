{
  "nbformat": 4,
  "nbformat_minor": 0,
  "metadata": {
    "colab": {
      "provenance": []
    },
    "kernelspec": {
      "name": "python3",
      "display_name": "Python 3"
    },
    "language_info": {
      "name": "python"
    }
  },
  "cells": [
    {
      "cell_type": "code",
      "execution_count": 1,
      "metadata": {
        "colab": {
          "base_uri": "https://localhost:8080/"
        },
        "id": "C8zz580gBNHk",
        "outputId": "a97d4aed-3aaf-493f-993f-568af6ce5801"
      },
      "outputs": [
        {
          "output_type": "stream",
          "name": "stdout",
          "text": [
            "Collecting pyspark\n",
            "  Downloading pyspark-3.5.0.tar.gz (316.9 MB)\n",
            "\u001b[2K     \u001b[90m━━━━━━━━━━━━━━━━━━━━━━━━━━━━━━━━━━━━━━━\u001b[0m \u001b[32m316.9/316.9 MB\u001b[0m \u001b[31m4.5 MB/s\u001b[0m eta \u001b[36m0:00:00\u001b[0m\n",
            "\u001b[?25h  Preparing metadata (setup.py) ... \u001b[?25l\u001b[?25hdone\n",
            "Requirement already satisfied: py4j==0.10.9.7 in /usr/local/lib/python3.10/dist-packages (from pyspark) (0.10.9.7)\n",
            "Building wheels for collected packages: pyspark\n",
            "  Building wheel for pyspark (setup.py) ... \u001b[?25l\u001b[?25hdone\n",
            "  Created wheel for pyspark: filename=pyspark-3.5.0-py2.py3-none-any.whl size=317425344 sha256=63878ae54c3cddf457c5f3b0423d0171231c3e1a357bc0b9a164268e45eccf8e\n",
            "  Stored in directory: /root/.cache/pip/wheels/41/4e/10/c2cf2467f71c678cfc8a6b9ac9241e5e44a01940da8fbb17fc\n",
            "Successfully built pyspark\n",
            "Installing collected packages: pyspark\n",
            "Successfully installed pyspark-3.5.0\n"
          ]
        }
      ],
      "source": [
        "!pip install pyspark"
      ]
    },
    {
      "cell_type": "markdown",
      "source": [
        "# PySpark - Modelo de Classificação\n"
      ],
      "metadata": {
        "id": "KD8OtQJhBOhq"
      }
    },
    {
      "cell_type": "code",
      "source": [
        "# libs\n",
        "from pyspark.sql import SparkSession\n",
        "\n",
        "from pyspark.ml.feature import RFormula\n",
        "from pyspark.ml.classification import DecisionTreeClassifier\n",
        "from pyspark.ml.evaluation import BinaryClassificationEvaluator"
      ],
      "metadata": {
        "id": "FQqYiLL_BOlv"
      },
      "execution_count": 4,
      "outputs": []
    },
    {
      "cell_type": "markdown",
      "source": [
        "## Criando a Session PySpark"
      ],
      "metadata": {
        "id": "bRfD2NvqDkKd"
      }
    },
    {
      "cell_type": "code",
      "source": [
        "spark = SparkSession.builder.appName('ryspark_modelo_classificacao')\\\n",
        "        .config('spark.master', 'local')\\\n",
        "        .config('spark.executor.memory', '2gb')\\\n",
        "        .config('spark.shuffle.sql.partitions', 2)\\\n",
        "        .getOrCreate()"
      ],
      "metadata": {
        "id": "-Se4UxO_DkOH"
      },
      "execution_count": 5,
      "outputs": []
    },
    {
      "cell_type": "markdown",
      "source": [
        "## Importação da base"
      ],
      "metadata": {
        "id": "aZT7-gwzDph1"
      }
    },
    {
      "cell_type": "code",
      "source": [
        "churn = spark.read.csv(\n",
        "    '/content/Churn.csv',\n",
        "    inferSchema = True,\n",
        "    header = True,\n",
        "    sep = ';')"
      ],
      "metadata": {
        "id": "LRwvmXyTDplY"
      },
      "execution_count": 17,
      "outputs": []
    },
    {
      "cell_type": "code",
      "source": [
        "# visualizando os dados\n",
        "churn.show(5)"
      ],
      "metadata": {
        "colab": {
          "base_uri": "https://localhost:8080/"
        },
        "id": "vC1qukcOTETJ",
        "outputId": "55778c15-342e-444b-a781-1f247932233b"
      },
      "execution_count": 18,
      "outputs": [
        {
          "output_type": "stream",
          "name": "stdout",
          "text": [
            "+-----------+---------+------+---+------+--------+-------------+---------+--------------+---------------+------+\n",
            "|CreditScore|Geography|Gender|Age|Tenure| Balance|NumOfProducts|HasCrCard|IsActiveMember|EstimatedSalary|Exited|\n",
            "+-----------+---------+------+---+------+--------+-------------+---------+--------------+---------------+------+\n",
            "|        619|   France|Female| 42|     2|       0|            1|        1|             1|       10134888|     1|\n",
            "|        608|    Spain|Female| 41|     1| 8380786|            1|        0|             1|       11254258|     0|\n",
            "|        502|   France|Female| 42|     8| 1596608|            3|        1|             0|       11393157|     1|\n",
            "|        699|   France|Female| 39|     1|       0|            2|        0|             0|        9382663|     0|\n",
            "|        850|    Spain|Female| 43|     2|12551082|            1|        1|             1|         790841|     0|\n",
            "+-----------+---------+------+---+------+--------+-------------+---------+--------------+---------------+------+\n",
            "only showing top 5 rows\n",
            "\n"
          ]
        }
      ]
    },
    {
      "cell_type": "markdown",
      "source": [
        "## Criando o objeto RFormula"
      ],
      "metadata": {
        "id": "WXePEXjATedu"
      }
    },
    {
      "cell_type": "code",
      "source": [
        "formula = RFormula(\n",
        "    formula = \"Exited ~ .\",\n",
        "    featuresCol = 'features', # nome da coluna dos dados de entrada\n",
        "    labelCol = 'label', # nome da coluna do dado de saida\n",
        "    handleInvalid = 'skip'\n",
        ")"
      ],
      "metadata": {
        "id": "y0CRFZdzTLv4"
      },
      "execution_count": 19,
      "outputs": []
    },
    {
      "cell_type": "markdown",
      "source": [
        "## Treinando e Transformando a base"
      ],
      "metadata": {
        "id": "dJR0OXQ4Te4n"
      }
    },
    {
      "cell_type": "code",
      "source": [
        "churn_transform = formula.fit(churn).transform(churn).select('features', 'label')"
      ],
      "metadata": {
        "id": "Uv7k8cyxTe9X"
      },
      "execution_count": 20,
      "outputs": []
    },
    {
      "cell_type": "code",
      "source": [
        "churn_transform.show(truncate = False)"
      ],
      "metadata": {
        "colab": {
          "base_uri": "https://localhost:8080/"
        },
        "id": "Rd_KdfoeVucI",
        "outputId": "d96aa500-d6c5-4f0d-e714-b83244d2b94b"
      },
      "execution_count": 21,
      "outputs": [
        {
          "output_type": "stream",
          "name": "stdout",
          "text": [
            "+----------------------------------------------------------------+-----+\n",
            "|features                                                        |label|\n",
            "+----------------------------------------------------------------+-----+\n",
            "|[619.0,1.0,0.0,0.0,42.0,2.0,0.0,1.0,1.0,1.0,1.0134888E7]        |1.0  |\n",
            "|[608.0,0.0,0.0,0.0,41.0,1.0,8380786.0,1.0,0.0,1.0,1.1254258E7]  |0.0  |\n",
            "|[502.0,1.0,0.0,0.0,42.0,8.0,1596608.0,3.0,1.0,0.0,1.1393157E7]  |1.0  |\n",
            "|(11,[0,1,4,5,7,10],[699.0,1.0,39.0,1.0,2.0,9382663.0])          |0.0  |\n",
            "|[850.0,0.0,0.0,0.0,43.0,2.0,1.2551082E7,1.0,1.0,1.0,790841.0]   |0.0  |\n",
            "|[645.0,0.0,0.0,1.0,44.0,8.0,1.1375578E7,2.0,1.0,0.0,1.4975671E7]|1.0  |\n",
            "|[822.0,1.0,0.0,1.0,50.0,7.0,0.0,2.0,1.0,1.0,100628.0]           |0.0  |\n",
            "|[376.0,0.0,1.0,0.0,29.0,4.0,1.1504674E7,4.0,1.0,0.0,1.1934688E7]|1.0  |\n",
            "|[501.0,1.0,0.0,1.0,44.0,4.0,1.4205107E7,2.0,0.0,1.0,749405.0]   |0.0  |\n",
            "|[684.0,1.0,0.0,1.0,27.0,2.0,1.3460388E7,1.0,1.0,1.0,7172573.0]  |0.0  |\n",
            "|[528.0,1.0,0.0,1.0,31.0,6.0,1.0201672E7,2.0,0.0,0.0,8018112.0]  |0.0  |\n",
            "|[497.0,0.0,0.0,1.0,24.0,3.0,0.0,2.0,1.0,0.0,7639001.0]          |0.0  |\n",
            "|[476.0,1.0,0.0,0.0,34.0,10.0,0.0,2.0,1.0,0.0,2626098.0]         |0.0  |\n",
            "|(11,[0,1,4,5,7,10],[549.0,1.0,25.0,5.0,2.0,1.9085779E7])        |0.0  |\n",
            "|[635.0,0.0,0.0,0.0,35.0,7.0,0.0,2.0,1.0,1.0,6595165.0]          |0.0  |\n",
            "|[616.0,0.0,1.0,1.0,45.0,3.0,1.4312941E7,2.0,0.0,1.0,6432726.0]  |0.0  |\n",
            "|[653.0,0.0,1.0,1.0,58.0,1.0,1.3260288E7,1.0,1.0,0.0,509767.0]   |1.0  |\n",
            "|[549.0,0.0,0.0,0.0,24.0,9.0,0.0,2.0,1.0,1.0,1440641.0]          |0.0  |\n",
            "|(11,[0,3,4,5,7,10],[587.0,1.0,45.0,6.0,1.0,1.5868481E7])        |0.0  |\n",
            "|[726.0,1.0,0.0,0.0,24.0,6.0,0.0,2.0,1.0,1.0,5472403.0]          |0.0  |\n",
            "+----------------------------------------------------------------+-----+\n",
            "only showing top 20 rows\n",
            "\n"
          ]
        }
      ]
    },
    {
      "cell_type": "markdown",
      "source": [
        "## Dividindo os dados em Treino e Teste\n",
        "- Treino (70%)\n",
        "- Teste (30%)"
      ],
      "metadata": {
        "id": "8rWTTptTTfCC"
      }
    },
    {
      "cell_type": "code",
      "source": [
        "churn_treino, churn_teste = churn_transform.randomSplit([0.7, 0.3])"
      ],
      "metadata": {
        "id": "R1cbOcNJTfG0"
      },
      "execution_count": 23,
      "outputs": []
    },
    {
      "cell_type": "code",
      "source": [
        "print(churn_treino.count())\n",
        "print(churn_teste.count())"
      ],
      "metadata": {
        "colab": {
          "base_uri": "https://localhost:8080/"
        },
        "id": "QEDStnp1XDO-",
        "outputId": "dad65d25-5df2-4761-bb7d-656fc76643fb"
      },
      "execution_count": 24,
      "outputs": [
        {
          "output_type": "stream",
          "name": "stdout",
          "text": [
            "7015\n",
            "2985\n"
          ]
        }
      ]
    },
    {
      "cell_type": "markdown",
      "source": [
        "## Criando o objeto do modelo DecisionTreeClassifier"
      ],
      "metadata": {
        "id": "UVgHFMfpXUFb"
      }
    },
    {
      "cell_type": "code",
      "source": [
        "decision_tree = DecisionTreeClassifier(\n",
        "    labelCol = 'label',\n",
        "    featuresCol = 'features'\n",
        ")"
      ],
      "metadata": {
        "id": "9aCPx9DDXHes"
      },
      "execution_count": 25,
      "outputs": []
    },
    {
      "cell_type": "markdown",
      "source": [
        "## Treinando o modelo DecisionTreeClassifier"
      ],
      "metadata": {
        "id": "BCzcFKQUX4to"
      }
    },
    {
      "cell_type": "code",
      "source": [
        "modelo = decision_tree.fit(churn_treino)"
      ],
      "metadata": {
        "id": "PkjUbAAiX4y9"
      },
      "execution_count": 26,
      "outputs": []
    },
    {
      "cell_type": "markdown",
      "source": [
        "## Criando a previsão\n",
        "- sempre com os dados de testes"
      ],
      "metadata": {
        "id": "GnF0XqGtYMFM"
      }
    },
    {
      "cell_type": "code",
      "source": [
        "previsao = modelo.transform(churn_teste)"
      ],
      "metadata": {
        "id": "7Mz1bxitYKlx"
      },
      "execution_count": 27,
      "outputs": []
    },
    {
      "cell_type": "markdown",
      "source": [
        "### Entendimento da previsão\n",
        "- probability [valor1, valor2]\n",
        "    - retorna uma lista contendo dois valores\n",
        "        - 1º valor: probabilidade de ser 0\n",
        "        - 2º valor: probabilidade de ser 1\n",
        "\n",
        "- label\n",
        "    - dados reais da nossa base\n",
        "\n",
        "- prediction\n",
        "    - retorna a previsão 0 ou 1 com base na variável 'probability'\n",
        "\n"
      ],
      "metadata": {
        "id": "xalZcDLfZFQ1"
      }
    },
    {
      "cell_type": "code",
      "source": [
        "previsao.show(20, truncate = False)"
      ],
      "metadata": {
        "colab": {
          "base_uri": "https://localhost:8080/"
        },
        "id": "CVl7IjXSYaFb",
        "outputId": "44edd79e-1680-4fa4-8ed6-ab1d4a61d12b"
      },
      "execution_count": 30,
      "outputs": [
        {
          "output_type": "stream",
          "name": "stdout",
          "text": [
            "+---------------------------------------------------------+-----+--------------+----------------------------------------+----------+\n",
            "|features                                                 |label|rawPrediction |probability                             |prediction|\n",
            "+---------------------------------------------------------+-----+--------------+----------------------------------------+----------+\n",
            "|(11,[0,1,3,4,7,10],[794.0,1.0,1.0,33.0,2.0,1.7812271E7]) |0.0  |[4363.0,516.0]|[0.8942406230784997,0.10575937692150031]|0.0       |\n",
            "|(11,[0,1,4,5,7,10],[411.0,1.0,36.0,10.0,1.0,1.2069435E7])|0.0  |[4363.0,516.0]|[0.8942406230784997,0.10575937692150031]|0.0       |\n",
            "|(11,[0,1,4,5,7,10],[474.0,1.0,30.0,9.0,2.0,6315822.0])   |0.0  |[4363.0,516.0]|[0.8942406230784997,0.10575937692150031]|0.0       |\n",
            "|(11,[0,1,4,5,7,10],[499.0,1.0,57.0,1.0,1.0,1.3137238E7]) |1.0  |[33.0,225.0]  |[0.12790697674418605,0.872093023255814] |1.0       |\n",
            "|(11,[0,1,4,5,7,10],[515.0,1.0,28.0,9.0,2.0,9414175.0])   |0.0  |[4363.0,516.0]|[0.8942406230784997,0.10575937692150031]|0.0       |\n",
            "|(11,[0,1,4,5,7,10],[531.0,1.0,47.0,6.0,1.0,1.9499834E7]) |1.0  |[111.0,95.0]  |[0.5388349514563107,0.46116504854368934]|0.0       |\n",
            "|(11,[0,1,4,5,7,10],[537.0,1.0,38.0,10.0,1.0,5233797.0])  |1.0  |[4363.0,516.0]|[0.8942406230784997,0.10575937692150031]|0.0       |\n",
            "|(11,[0,1,4,5,7,10],[543.0,1.0,36.0,3.0,2.0,2601959.0])   |0.0  |[4363.0,516.0]|[0.8942406230784997,0.10575937692150031]|0.0       |\n",
            "|(11,[0,1,4,5,7,10],[548.0,1.0,37.0,9.0,2.0,9802958.0])   |0.0  |[4363.0,516.0]|[0.8942406230784997,0.10575937692150031]|0.0       |\n",
            "|(11,[0,1,4,5,7,10],[557.0,1.0,24.0,4.0,1.0,2051572.0])   |0.0  |[4363.0,516.0]|[0.8942406230784997,0.10575937692150031]|0.0       |\n",
            "|(11,[0,1,4,5,7,10],[570.0,1.0,46.0,3.0,2.0,82046.0])     |0.0  |[148.0,32.0]  |[0.8222222222222222,0.17777777777777778]|0.0       |\n",
            "|(11,[0,1,4,5,7,10],[591.0,1.0,42.0,10.0,2.0,1.7109922E7])|0.0  |[4363.0,516.0]|[0.8942406230784997,0.10575937692150031]|0.0       |\n",
            "|(11,[0,1,4,5,7,10],[598.0,1.0,34.0,4.0,2.0,6089426.0])   |0.0  |[4363.0,516.0]|[0.8942406230784997,0.10575937692150031]|0.0       |\n",
            "|(11,[0,1,4,5,7,10],[600.0,1.0,39.0,5.0,2.0,1.1827207E7]) |0.0  |[4363.0,516.0]|[0.8942406230784997,0.10575937692150031]|0.0       |\n",
            "|(11,[0,1,4,5,7,10],[601.0,1.0,37.0,5.0,1.0,207086.0])    |0.0  |[4363.0,516.0]|[0.8942406230784997,0.10575937692150031]|0.0       |\n",
            "|(11,[0,1,4,5,7,10],[607.0,1.0,32.0,6.0,2.0,1.9606201E7]) |0.0  |[4363.0,516.0]|[0.8942406230784997,0.10575937692150031]|0.0       |\n",
            "|(11,[0,1,4,5,7,10],[617.0,1.0,27.0,4.0,2.0,1.9026921E7]) |0.0  |[4363.0,516.0]|[0.8942406230784997,0.10575937692150031]|0.0       |\n",
            "|(11,[0,1,4,5,7,10],[618.0,1.0,42.0,2.0,4.0,1.1109739E7]) |1.0  |[21.0,8.0]    |[0.7241379310344828,0.27586206896551724]|0.0       |\n",
            "|(11,[0,1,4,5,7,10],[620.0,1.0,41.0,9.0,2.0,8885247.0])   |0.0  |[4363.0,516.0]|[0.8942406230784997,0.10575937692150031]|0.0       |\n",
            "|(11,[0,1,4,5,7,10],[626.0,1.0,35.0,3.0,1.0,8019036.0])   |0.0  |[4363.0,516.0]|[0.8942406230784997,0.10575937692150031]|0.0       |\n",
            "+---------------------------------------------------------+-----+--------------+----------------------------------------+----------+\n",
            "only showing top 20 rows\n",
            "\n"
          ]
        }
      ]
    },
    {
      "cell_type": "markdown",
      "source": [
        "## Avaliando a performance do modelo"
      ],
      "metadata": {
        "id": "UgCGjpt0a-jw"
      }
    },
    {
      "cell_type": "markdown",
      "source": [
        "#### Criando o objeto de avaliação BinaryClassificationEvaluator"
      ],
      "metadata": {
        "id": "REdpyZcvb6KT"
      }
    },
    {
      "cell_type": "code",
      "source": [
        "avaliar = BinaryClassificationEvaluator(\n",
        "    rawPredictionCol = 'prediction',\n",
        "    labelCol = 'label',\n",
        "    metricName = 'areaUnderROC'\n",
        ")"
      ],
      "metadata": {
        "id": "17B56FkmYc04"
      },
      "execution_count": 31,
      "outputs": []
    },
    {
      "cell_type": "code",
      "source": [
        "area_under_roc = avaliar.evaluate(previsao)"
      ],
      "metadata": {
        "id": "MfHFapeHb9wh"
      },
      "execution_count": 32,
      "outputs": []
    },
    {
      "cell_type": "code",
      "source": [
        "print(area_under_roc)"
      ],
      "metadata": {
        "colab": {
          "base_uri": "https://localhost:8080/"
        },
        "id": "Cg574xs8cIXf",
        "outputId": "57897484-1975-464f-f67e-90adfb6b7b91"
      },
      "execution_count": 33,
      "outputs": [
        {
          "output_type": "stream",
          "name": "stdout",
          "text": [
            "0.6706302794473913\n"
          ]
        }
      ]
    }
  ]
}